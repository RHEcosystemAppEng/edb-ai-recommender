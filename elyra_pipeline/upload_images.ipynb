{
 "cells": [
  {
   "cell_type": "code",
   "execution_count": 4,
   "id": "b3c3f129-15fc-4589-a169-dc468faa63dd",
   "metadata": {},
   "outputs": [],
   "source": [
    "import tarfile\n",
    "import os\n",
    "from s3_utilities import get_s3_connection_profile\n",
    "import boto3, botocore"
   ]
  },
  {
   "cell_type": "code",
   "execution_count": null,
   "id": "7b8b03f6-ce3d-4b4c-8a17-6a584eba0261",
   "metadata": {},
   "outputs": [],
   "source": []
  },
  {
   "cell_type": "code",
   "execution_count": 3,
   "id": "d6f7dc7d-32c6-4d3d-babb-44064494cffa",
   "metadata": {},
   "outputs": [],
   "source": [
    "cat ./images.tar.parta* > ./images.tar.gz"
   ]
  },
  {
   "cell_type": "code",
   "execution_count": 5,
   "id": "7951ad33-c734-42e3-b5bc-ddf6c6481d6a",
   "metadata": {},
   "outputs": [
    {
     "name": "stderr",
     "output_type": "stream",
     "text": [
      "/usr/lib64/python3.11/tarfile.py:2282: RuntimeWarning: The default behavior of tarfile extraction has been changed to disallow common exploits (including CVE-2007-4559). By default, absolute/parent paths are disallowed and some mode bits are cleared. See https://access.redhat.com/articles/7004769 for more details.\n",
      "  warnings.warn(\n"
     ]
    }
   ],
   "source": [
    "filename = './images.tar.gz'\n",
    "extract_path = '.'\n",
    "\n",
    "with tarfile.open(filename) as f:\n",
    "    f.extractall(extract_path)\n",
    "    f.close()"
   ]
  },
  {
   "cell_type": "code",
   "execution_count": null,
   "id": "df2ed8a1-d6a4-4a7c-b669-584ef676b9e2",
   "metadata": {},
   "outputs": [],
   "source": []
  },
  {
   "cell_type": "code",
   "execution_count": null,
   "id": "9bc96c43-08d1-4842-965d-177824370c92",
   "metadata": {},
   "outputs": [],
   "source": [
    "def delete_folder_if_exists(bucket, folder_name: str):\n",
    "    prefix = folder_name.rstrip('/') + '/'\n",
    "    objects = list(bucket.objects.filter(Prefix=prefix))\n",
    "\n",
    "    if not objects:\n",
    "        print(f\"No folder named '{folder_name}' found in bucket '{bucket.name}'.\")\n",
    "        return\n",
    "\n",
    "    print(f\"Deleting folder '{folder_name}' and its contents in bucket '{bucket.name}'...\")\n",
    "\n",
    "    for obj in objects:\n",
    "        print(f\"Deleting: {obj.key}\")\n",
    "        obj.delete()\n",
    "\n",
    "    print(\"Folder deleted successfully.\")"
   ]
  },
  {
   "cell_type": "code",
   "execution_count": null,
   "id": "9c52a481-e6e2-4025-8bea-ef6ba8d57296",
   "metadata": {},
   "outputs": [],
   "source": []
  },
  {
   "cell_type": "code",
   "execution_count": 5,
   "id": "76cd00f8-a730-4229-b7c9-3d8d94a37f99",
   "metadata": {},
   "outputs": [],
   "source": [
    "s3_profile = get_s3_connection_profile()\n",
    "\n",
    "local_images_directory = \"./downloaded_images\"\n",
    " \n",
    "session = boto3.session.Session(\n",
    "        aws_access_key_id=s3_profile.access_key,\n",
    "        aws_secret_access_key=s3_profile.secret_key\n",
    "      )\n",
    "\n",
    "s3_resource = session.resource('s3',\n",
    "    config=botocore.client.Config(signature_version='s3v4'),\n",
    "    endpoint_url=s3_profile.endpoint_url,\n",
    "    region_name=s3_profile.region\n",
    "    )\n",
    " \n",
    "edb_bucket = s3_resource.Bucket(s3_profile.bucket_name)"
   ]
  },
  {
   "cell_type": "code",
   "execution_count": null,
   "id": "0a484e39-59f8-440f-90f9-c2533777324b",
   "metadata": {},
   "outputs": [],
   "source": []
  },
  {
   "cell_type": "code",
   "execution_count": null,
   "id": "40f92e70-f35f-40ad-9547-1e60e20ed17d",
   "metadata": {},
   "outputs": [],
   "source": [
    "delete_folder_if_exists(edb_bucket, s3_profile.recommender_images_path);"
   ]
  },
  {
   "cell_type": "code",
   "execution_count": null,
   "id": "ed504571-1ebb-412b-b7e5-4630721c5cd6",
   "metadata": {},
   "outputs": [],
   "source": []
  },
  {
   "cell_type": "code",
   "execution_count": null,
   "id": "b517370f-5b94-4194-b52d-5c2a1c87f8c9",
   "metadata": {},
   "outputs": [],
   "source": [
    "images_uploaded = 0\n",
    "print(f\"Uploading images to s3 bucket {s3_profile.endpoint_url}:{s3_profile.bucket_name} ... \", end=\"\")\n",
    "\n",
    "for root, dirs, files in os.walk(local_images_directory):\n",
    "    for filename in files:\n",
    "        file_path = os.path.join(root, filename)\n",
    "        object_key = os.path.join(s3_profile.recommender_images_path, filename)\n",
    "        edb_bucket.upload_file(file_path, object_key)\n",
    "        images_uploaded += 1\n",
    "        if images_uploaded % 100 == 0:\n",
    "            print(f\"{images_uploaded} \", end=\"\")\n",
    "\n",
    "print(\"Upload completed.\")"
   ]
  },
  {
   "cell_type": "code",
   "execution_count": null,
   "id": "496922a5-dfaa-4c6f-8355-7a9318e6f507",
   "metadata": {},
   "outputs": [],
   "source": []
  }
 ],
 "metadata": {
  "kernelspec": {
   "display_name": "Python 3.11",
   "language": "python",
   "name": "python3"
  },
  "language_info": {
   "codemirror_mode": {
    "name": "ipython",
    "version": 3
   },
   "file_extension": ".py",
   "mimetype": "text/x-python",
   "name": "python",
   "nbconvert_exporter": "python",
   "pygments_lexer": "ipython3",
   "version": "3.11.7"
  }
 },
 "nbformat": 4,
 "nbformat_minor": 5
}
