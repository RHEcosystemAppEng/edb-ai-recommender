{
 "cells": [
  {
   "cell_type": "code",
   "execution_count": 1,
   "id": "7ff4b3a4-aafc-4ff5-b106-0b09ce568259",
   "metadata": {},
   "outputs": [],
   "source": [
    "import psycopg2\n",
    "from postgres_utilities import connect_db, close_db"
   ]
  },
  {
   "cell_type": "code",
   "execution_count": null,
   "id": "2749aa09-1e91-4eec-995f-4429b0452e97",
   "metadata": {},
   "outputs": [],
   "source": []
  },
  {
   "cell_type": "code",
   "execution_count": 2,
   "id": "b9eb1d35-8d2f-4289-817e-054854da1b83",
   "metadata": {},
   "outputs": [],
   "source": [
    "try:\n",
    "    conn = connect_db()\n",
    "    with conn.cursor() as cur:\n",
    "        cur.execute(\"CREATE EXTENSION IF NOT EXISTS aidb cascade;\")\n",
    "        cur.execute(\"CREATE EXTENSION IF NOT EXISTS pgfs;\")\n",
    "    conn.commit()\n",
    "except Exception as e:\n",
    "    if conn is not None and not conn.closed:\n",
    "        conn.rollback()\n",
    "    err_msg = f\"An error occurred and the transaction was rolled back: {e}\"\n",
    "    raise Exception(err_msg)\n",
    "finally:\n",
    "    close_db(conn)"
   ]
  },
  {
   "cell_type": "code",
   "execution_count": null,
   "id": "e163024e-873c-4ba5-98a1-c250c315270b",
   "metadata": {},
   "outputs": [],
   "source": []
  },
  {
   "cell_type": "code",
   "execution_count": null,
   "id": "afaf47a7-a8f8-4b3d-8f3c-5d69759c1bc2",
   "metadata": {},
   "outputs": [],
   "source": []
  }
 ],
 "metadata": {
  "kernelspec": {
   "display_name": "Python 3.11",
   "language": "python",
   "name": "python3"
  },
  "language_info": {
   "codemirror_mode": {
    "name": "ipython",
    "version": 3
   },
   "file_extension": ".py",
   "mimetype": "text/x-python",
   "name": "python",
   "nbconvert_exporter": "python",
   "pygments_lexer": "ipython3",
   "version": "3.11.7"
  }
 },
 "nbformat": 4,
 "nbformat_minor": 5
}
