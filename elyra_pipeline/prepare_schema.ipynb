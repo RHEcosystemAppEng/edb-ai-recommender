{
 "cells": [
  {
   "cell_type": "code",
   "execution_count": 2,
   "id": "83b40f25-ca27-4fc7-bad1-54a7f767120c",
   "metadata": {},
   "outputs": [],
   "source": [
    "import psycopg2\n",
    "from postgres_utilities import connect_db, close_db"
   ]
  },
  {
   "cell_type": "code",
   "execution_count": null,
   "id": "4e0161ad-21cc-49f5-b5b5-35810e4b2225",
   "metadata": {},
   "outputs": [],
   "source": []
  },
  {
   "cell_type": "code",
   "execution_count": null,
   "id": "a986af57-4f7f-4adc-91d4-7ab5473f4796",
   "metadata": {},
   "outputs": [],
   "source": [
    "try:\n",
    "    conn = connect_db()\n",
    "    with conn.cursor() as cur:\n",
    "        cur.execute(\"CREATE EXTENSION IF NOT EXISTS aidb cascade;\")\n",
    "        cur.execute(\"CREATE EXTENSION IF NOT EXISTS pgfs;\")\n",
    "\n",
    "        cur.execute(\"DROP TABLE IF EXISTS products;\")\n",
    "        cur.execute(\"\"\"\n",
    "            CREATE TABLE IF NOT EXISTS products (\n",
    "                product_id TEXT,\n",
    "                gender VARCHAR(50),\n",
    "                masterCategory VARCHAR(100),\n",
    "                subCategory VARCHAR(100),\n",
    "                articleType VARCHAR(100),\n",
    "                baseColour VARCHAR(50),\n",
    "                season TEXT,\n",
    "                year INTEGER,\n",
    "                usage TEXT NULL,\n",
    "                productDisplayName TEXT NULL\n",
    "            );\n",
    "        \"\"\")\n",
    "    \n",
    "        cur.execute(\"DROP TABLE IF EXISTS product_review;\")\n",
    "        cur.execute(\n",
    "        \"\"\"CREATE TABLE IF NOT EXISTS product_review(\n",
    "            user_id TEXT,\n",
    "            product_id TEXT,\n",
    "            rating INT,\n",
    "            timestamp TIMESTAMP DEFAULT CURRENT_TIMESTAMP,\n",
    "            review TEXT\n",
    "            );\"\"\"\n",
    "        )\n",
    "    conn.commit()\n",
    "except Exception as e:\n",
    "    if conn is not None and not conn.closed:\n",
    "        conn.rollback()\n",
    "    err_msg = f\"An error occurred and the transaction was rolled back: {e}\"\n",
    "    raise Exception(err_msg)\n",
    "finally:\n",
    "    close_db(conn)"
   ]
  },
  {
   "cell_type": "code",
   "execution_count": null,
   "id": "8cc91f7a-d132-40cc-84a9-895ffc24c019",
   "metadata": {},
   "outputs": [],
   "source": []
  },
  {
   "cell_type": "code",
   "execution_count": null,
   "id": "7b8094bc-b0e9-44c1-8992-7c4ac6d8057c",
   "metadata": {},
   "outputs": [],
   "source": []
  }
 ],
 "metadata": {
  "kernelspec": {
   "display_name": "Python 3.11",
   "language": "python",
   "name": "python3"
  },
  "language_info": {
   "codemirror_mode": {
    "name": "ipython",
    "version": 3
   },
   "file_extension": ".py",
   "mimetype": "text/x-python",
   "name": "python",
   "nbconvert_exporter": "python",
   "pygments_lexer": "ipython3",
   "version": "3.11.7"
  }
 },
 "nbformat": 4,
 "nbformat_minor": 5
}
