{
 "cells": [
  {
   "cell_type": "code",
   "execution_count": 11,
   "id": "38cfba1b-2094-41f7-a5d5-056293766382",
   "metadata": {},
   "outputs": [],
   "source": [
    "import psycopg2, os\n",
    "from postgres_utilities import connect_db, close_db\n",
    "from s3_utilities import get_s3_connection_profile, S3ConnectionProfile"
   ]
  },
  {
   "cell_type": "code",
   "execution_count": null,
   "id": "79e55ced-60ca-4de4-a4d9-79ff927e9744",
   "metadata": {},
   "outputs": [],
   "source": []
  },
  {
   "cell_type": "code",
   "execution_count": 12,
   "id": "864daa41-e78f-4181-a84c-24e2eaf6ccba",
   "metadata": {},
   "outputs": [],
   "source": [
    "s3_connection_profile = get_s3_connection_profile()\n",
    "#s3_connection_profile = S3ConnectionProfile(\"s3://minio-api-minio.apps.ai-dev01.kni.syseng.devcluster.openshift.com\", \n",
    "#                                 \"edb-aidb\", \"us-east-1\", \"false\", \"minio\", \"minio1234!\", \"recommender_images\")"
   ]
  },
  {
   "cell_type": "code",
   "execution_count": 13,
   "id": "23f7bc5e-e540-4fe7-8930-073f19da4629",
   "metadata": {},
   "outputs": [],
   "source": [
    "def create_image_retriever(conn):    \n",
    "    \n",
    "    with conn.cursor() as cur:\n",
    "        #Drop existing objects if any\n",
    "        cur.execute(\"DROP SERVER IF EXISTS images_s3_little CASCADE;\")\n",
    "        cur.execute(\"SELECT aidb.delete_model('recom_images');\")\n",
    "        cur.execute(\"SELECT aidb.delete_volume('images_bucket_vol');\")\n",
    "        cur.execute(\"SELECT aidb.delete_retriever('recom_images');\")\n",
    "        cur.execute(\"SELECT pgfs.delete_storage_location('images_s3_little');\")\n",
    "        cur.execute(\"DROP TABLE IF EXISTS recom_images_vector CASCADE;\")\n",
    "\n",
    "\n",
    "        #Using EDB's pgfs extension, let's now connect to the in-cluster s3 bucket storage location \n",
    "        create_storage_location = (\n",
    "            \"SELECT pgfs.create_storage_location('images_s3_little', 's3://edb-aidb',\"\n",
    "            \"msl_id => null, \"\n",
    "            f\"options => '{{\\\"endpoint\\\": \\\"{s3_connection_profile.endpoint_url}\\\"}}', \"\n",
    "            f\"credentials => '{{\\\"access_key_id\\\": \\\"{s3_connection_profile.access_key}\\\", \\\"secret_access_key\\\":\\\"{s3_connection_profile.secret_key}\\\"}}'); \"\n",
    "            )\n",
    "        cur.execute(create_storage_location)\n",
    "\n",
    "        #Now create a volume from a PGFS storage location for use as a data source in retrievers.\n",
    "        create_volume = f\"SELECT aidb.create_volume('images_bucket_vol', 'images_s3_little', '{s3_connection_profile.recommender_images_path}/', 'Image');\"\n",
    "        cur.execute(create_volume)\n",
    "\n",
    "        #Now let's define the model we'll use to generate embeddings\n",
    "        #image_embedding_service = \"https://phi-3-vision-128k-instruct-samouelian-edb-ai.apps.ai-dev01.kni.syseng.devcluster.openshift.com/v1/embeddings\"\n",
    "\n",
    "        #number embedding dimensions=3072 if we need it\n",
    "        #define_model = (\n",
    "        #    \"select aidb.create_model('recom_images','nim_clip',\"\n",
    "        #    f\"'{{\\\"model\\\":\\\"phi-3-vision-128k-instruct\\\", \\\"url\\\":\\\"{image_embedding_service}\\\"}}'::JSONB, \"\n",
    "        #    \"'{\\\"api_key\\\":\\\"\\\"}'::JSONB); \"            \n",
    "        #)\n",
    "        define_model = \"SELECT aidb.create_model('recom_images', 'clip_local');\"\n",
    "\n",
    "        cur.execute(define_model)\n",
    "       \n",
    "        create_retriever = (\n",
    "            \"SELECT aidb.create_retriever_for_volume(\"\n",
    "            \"name => 'recom_images',\"\n",
    "            \"model_name => 'recom_images',\"\n",
    "            \"source_volume_name => 'images_bucket_vol');\"\n",
    "           )\n",
    "        cur.execute(create_retriever)"
   ]
  },
  {
   "cell_type": "code",
   "execution_count": 14,
   "id": "3922a8c3-86f4-4595-abf2-95112e41a514",
   "metadata": {},
   "outputs": [],
   "source": [
    "def create_product_description_retriever(conn):\n",
    "\n",
    "    with conn.cursor() as cur:\n",
    "        # Run retriever for products table\n",
    "        # The idea is to create a retriever for the products table so the text search can run over it.\n",
    "\n",
    "        try:\n",
    "            cur.execute(\"SAVEPOINT risky_operation\")\n",
    "            cur.execute(\"SELECT aidb.delete_retriever('recommend_products');\")\n",
    "        except Exception as e:\n",
    "            cur.execute(\"ROLLBACK TO SAVEPOINT risky_operation\") \n",
    "\n",
    "        cur.execute(\"DROP TABLE IF EXISTS recommend_products_vector CASCADE;\")\n",
    "\n",
    "        #Now let's define the model we'll use to generate embeddings\n",
    "        embedding_endpoint =  os.environ.get('TEXT_EMBEDDING_ENDPOINT')\n",
    "        model_name = os.environ.get('TEXT_EMBEDDING_MODEL_NAME')\n",
    "        image_embedding_service = f\"{embedding_endpoint}/v1/embeddings\"\n",
    "\n",
    "        drop_model_sql = \"SELECT aidb.delete_model('product_descriptions_embeddings');\"\n",
    "        print(f\"Drop model: {drop_model_sql}\")\n",
    "        cur.execute(drop_model_sql)\n",
    "\n",
    "        define_model = (\n",
    "            \"select aidb.create_model(\"\n",
    "            \"'product_descriptions_embeddings',\"\n",
    "            \"'embeddings',\"\n",
    "            f\"'{{\\\"model\\\":\\\"{model_name}\\\", \\\"url\\\":\\\"{image_embedding_service}\\\",\" \n",
    "            \"\\\"dimensions\\\":4096}'::JSONB, \"\n",
    "            \"'{\\\"api_key\\\":\\\"\\\"}'::JSONB, true); \"\n",
    "        )\n",
    "        print(f\"Create Model: {define_model}\")\n",
    "\n",
    "        cur.execute(define_model)\n",
    "\n",
    "        product_retriever = \"\"\"SELECT aidb.create_retriever_for_table(\n",
    "                    name => 'recommend_products',\n",
    "                    model_name => 'product_descriptions_embeddings',\n",
    "                    source_table => 'products',\n",
    "                    source_key_column => 'img_id',\n",
    "                    source_data_column => 'productdisplayname',\n",
    "                    source_data_type => 'Text'\n",
    "                    );\"\"\"\n",
    "\n",
    "        print(f\"Product Retriever: {product_retriever}\")\n",
    "\n",
    "        cur.execute(product_retriever)"
   ]
  },
  {
   "cell_type": "code",
   "execution_count": null,
   "id": "e346c1f5-4454-4ab8-9fe8-26aac7d471a5",
   "metadata": {},
   "outputs": [],
   "source": []
  },
  {
   "cell_type": "code",
   "execution_count": 15,
   "id": "1b089eac-39aa-45ab-85ef-89c9a640d0ec",
   "metadata": {},
   "outputs": [
    {
     "name": "stdout",
     "output_type": "stream",
     "text": [
      "Drop model: SELECT aidb.delete_model('product_descriptions_embeddings');\n",
      "Create Model: select aidb.create_model('product_descriptions_embeddings','embeddings','{\"model\":\"None\", \"url\":\"None/v1/embeddings\",\"dimensions\":4096}'::JSONB, '{\"api_key\":\"\"}'::JSONB, true); \n",
      "Product Retriever: SELECT aidb.create_retriever_for_table(\n",
      "                    name => 'recommend_products',\n",
      "                    model_name => 'product_descriptions_embeddings',\n",
      "                    source_table => 'products',\n",
      "                    source_key_column => 'img_id',\n",
      "                    source_data_column => 'productdisplayname',\n",
      "                    source_data_type => 'Text'\n",
      "                    );\n"
     ]
    }
   ],
   "source": [
    "try:\n",
    "    conn = connect_db()\n",
    "    create_product_description_retriever(conn)\n",
    "    create_image_retriever(conn)\n",
    "    conn.commit()\n",
    "except Exception as e:\n",
    "    conn.rollback()\n",
    "    raise(e)\n",
    "finally:\n",
    "    close_db(conn)"
   ]
  },
  {
   "cell_type": "code",
   "execution_count": null,
   "id": "6ba22bd2-6120-4290-b00c-e3e0a68bdde5",
   "metadata": {},
   "outputs": [],
   "source": []
  }
 ],
 "metadata": {
  "kernelspec": {
   "display_name": "Python 3.11",
   "language": "python",
   "name": "python3"
  },
  "language_info": {
   "codemirror_mode": {
    "name": "ipython",
    "version": 3
   },
   "file_extension": ".py",
   "mimetype": "text/x-python",
   "name": "python",
   "nbconvert_exporter": "python",
   "pygments_lexer": "ipython3",
   "version": "3.11.7"
  }
 },
 "nbformat": 4,
 "nbformat_minor": 5
}
