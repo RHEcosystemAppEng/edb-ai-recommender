{
 "cells": [
  {
   "cell_type": "code",
   "execution_count": null,
   "id": "8aa558d2-2fc0-4feb-a49f-a6b220881c72",
   "metadata": {},
   "outputs": [],
   "source": [
    "import psycopg2\n",
    "from postgres_utilities import connect_db, close_db\n",
    "from s3_utilities import get_s3_connection_profile, S3ConnectionProfile"
   ]
  },
  {
   "cell_type": "code",
   "execution_count": null,
   "id": "b2af8848-975f-4278-b7a0-211c3e0dcc3f",
   "metadata": {},
   "outputs": [],
   "source": []
  },
  {
   "cell_type": "code",
   "execution_count": null,
   "id": "be344f61-d9ad-4686-8d65-4f4461acfa86",
   "metadata": {},
   "outputs": [],
   "source": [
    "s3_connection_profile = get_s3_connection_profile()"
   ]
  },
  {
   "cell_type": "code",
   "execution_count": null,
   "id": "a10dbeb0-6cd6-4d0a-80da-d764431eb6f0",
   "metadata": {},
   "outputs": [],
   "source": []
  },
  {
   "cell_type": "code",
   "execution_count": null,
   "id": "ee31d1d4-bcdf-4308-98c4-e2bad603cada",
   "metadata": {},
   "outputs": [],
   "source": [
    "def compute_product_image_embeddings(conn):\n",
    "    with conn.cursor() as cur:\n",
    "        cur.execute(\"SELECT aidb.bulk_embedding('recom_images');\")"
   ]
  },
  {
   "cell_type": "code",
   "execution_count": null,
   "id": "332b03a9-5a53-4555-ad10-65aea1a41791",
   "metadata": {},
   "outputs": [],
   "source": [
    "try:\n",
    "    conn = connect_db()\n",
    "    compute_product_image_embeddings(conn)\n",
    "    conn.commit()\n",
    "except Exception as e:\n",
    "    conn.rollback()\n",
    "    raise(e)\n",
    "finally:\n",
    "    close_db(conn)"
   ]
  }
 ],
 "metadata": {
  "kernelspec": {
   "display_name": "Python 3.11",
   "language": "python",
   "name": "python3"
  },
  "language_info": {
   "codemirror_mode": {
    "name": "ipython",
    "version": 3
   },
   "file_extension": ".py",
   "mimetype": "text/x-python",
   "name": "python",
   "nbconvert_exporter": "python",
   "pygments_lexer": "ipython3",
   "version": "3.11.7"
  }
 },
 "nbformat": 4,
 "nbformat_minor": 5
}
