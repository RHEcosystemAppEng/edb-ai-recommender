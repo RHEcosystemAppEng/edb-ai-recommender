{
 "cells": [
  {
   "cell_type": "code",
   "execution_count": 6,
   "id": "38cfba1b-2094-41f7-a5d5-056293766382",
   "metadata": {},
   "outputs": [],
   "source": [
    "import psycopg2\n",
    "from postgres_utilities import connect_db, close_db\n",
    "from s3_utilities import get_s3_connection_profile, S3ConnectionProfile"
   ]
  },
  {
   "cell_type": "code",
   "execution_count": null,
   "id": "79e55ced-60ca-4de4-a4d9-79ff927e9744",
   "metadata": {},
   "outputs": [],
   "source": []
  },
  {
   "cell_type": "code",
   "execution_count": 7,
   "id": "864daa41-e78f-4181-a84c-24e2eaf6ccba",
   "metadata": {},
   "outputs": [],
   "source": [
    "#s3_connection_profile = get_s3_connection_profile()\n",
    "s3_connection_profile = S3ConnectionProfile(\"s3://minio-api-minio.apps.ai-dev01.kni.syseng.devcluster.openshift.com\", \n",
    "                                 \"edb-aidb\", \"us-east-1\", \"false\", \"minio\", \"minio1234!\", \"recommender_images\")"
   ]
  },
  {
   "cell_type": "code",
   "execution_count": null,
   "id": "fc54d1f9-a39e-4d32-8fd8-85349226f37a",
   "metadata": {},
   "outputs": [],
   "source": []
  },
  {
   "cell_type": "code",
   "execution_count": 8,
   "id": "23f7bc5e-e540-4fe7-8930-073f19da4629",
   "metadata": {},
   "outputs": [],
   "source": [
    "def create_image_retriever(conn):    \n",
    "    \n",
    "    with conn.cursor() as cur:\n",
    "        #EDB aidb and pfgs extensions enable access to external data through volumes and server objects\n",
    "        #Let's first delete these objects if they already exist from a prior initialization\n",
    "        fdw_drop_sql = \"drop server if exists images_s3_little cascade;\"\n",
    "        drop_model_sql = \"SELECT aidb.delete_model('recom_images');\"\n",
    "        cur.execute(fdw_drop_sql)\n",
    "        cur.execute(drop_model_sql)\n",
    "        \n",
    "        print(f\"Step 1a: drop sql:{fdw_drop_sql}\")\n",
    "        print(f\"Step 1b: drop sql:{drop_model_sql}\")\n",
    "        \n",
    "        #Using EDB's pgfs extension, let's now connect to the in-cluster s3 bucket storage location using a server object\n",
    "        #You can pass options and credentials to the storage locations. \n",
    "        #The options and credentials are specific to the type of storage location you're using (s3 bucket or file system)\n",
    "        \n",
    "        url = f\"{s3_connection_profile.endpoint_url}/{s3_connection_profile.bucket_name}\"\n",
    "        credentials = f'{{\"access_key_id\": \"{s3_connection_profile.access_key}\", \"secret_access_key\":\"{s3_connection_profile.secret_key}\" }}'\n",
    "        fdw_create_sql = (\n",
    "                \"CREATE SERVER images_s3_little FOREIGN DATA WRAPPER pgfs_fdw \"\n",
    "                f\"OPTIONS (url '{url}', region '{s3_connection_profile.region}', \"\n",
    "                f\"skip_signature '{s3_connection_profile.skip_signature}',  \"\n",
    "                f\"credentials '{credentials}');\"\n",
    "            )\n",
    "\n",
    "        cur.execute(fdw_create_sql)\n",
    "        print(f\"Step 2: fdw_create={fdw_create_sql}\")\n",
    "\n",
    "        #Now create a volume from a PGFS storage location for use as a data source in retrievers.\n",
    "        create_volume = f\"SELECT aidb.create_volume('images_bucket_vol', 'images_s3_little', '{s3_connection_profile.recommender_images_path}', 'Image');\"\n",
    "        cur.execute(create_volume)\n",
    "        print(f\"Step 3: create_volume={create_volume}\")\n",
    "\n",
    "        #Now let's define the model we'll use to generate embeddings\n",
    "        image_embedding_service = \"https://phi-3-vision-128k-instruct-samouelian-edb-ai.apps.ai-dev01.kni.syseng.devcluster.openshift.com/v1/embeddings\"\n",
    "\n",
    "        #number embedding dimensions=3072 if we need it\n",
    "        define_model = (\n",
    "            \"select aidb.create_model('recom_images','nim_clip',\"\n",
    "            f\"'{{\\\"model\\\":\\\"phi-3-vision-128k-instruct\\\", \\\"url\\\":\\\"{image_embedding_service}\\\"}}'::JSONB);\"\n",
    "        )\n",
    "\n",
    "        print(f\"Step 4: define_model={define_model}\")\n",
    "\n",
    "        cur.execute(define_model)\n",
    "       \n",
    "        create_retriever = (\n",
    "            \"SELECT aidb.create_retriever_for_volume(\"\n",
    "            \"name => 'recom_images',\"\n",
    "            \"model_name => 'recom_images',\"\n",
    "            \"source_volume_name => 'images_bucket_vol');\"\n",
    "           )\n",
    "        \n",
    "        print(f\"Step 5: create_retriever={create_retriever}\")\n",
    "\n",
    "        cur.execute(create_retriever)"
   ]
  },
  {
   "cell_type": "code",
   "execution_count": null,
   "id": "3e7ddd73-689a-4e40-bdfd-109bd1cbc013",
   "metadata": {},
   "outputs": [],
   "source": []
  },
  {
   "cell_type": "code",
   "execution_count": 9,
   "id": "3922a8c3-86f4-4595-abf2-95112e41a514",
   "metadata": {},
   "outputs": [],
   "source": [
    "def create_product_description_retriever(conn):\n",
    "    with conn.cursor() as cur:\n",
    "        # Run retriever for products table\n",
    "        # The idea is to create a retriever for the products table so the text search can run over it.\n",
    "\n",
    "        #Now let's define the model we'll use to generate embeddings\n",
    "        image_embedding_service = \"https://phi-3-vision-128k-instruct-samouelian-edb-ai.apps.ai-dev01.kni.syseng.devcluster.openshift.com/v1/embeddings\"\n",
    "\n",
    "        define_model = (\n",
    "            \"select aidb.create_model(\"\n",
    "            \"'product_descriptions_embeddings',\"\n",
    "            \"'embeddings',\"\n",
    "            f\"'{{\\\"model\\\":\\\"phi-3-vision-128k-instruct\\\", \\\"url\\\":\\\"{image_embedding_service}\\\",\" \n",
    "            \"\\\"dimensions\\\":3072}'::JSONB, \"\n",
    "            \"'{\\\"api_key\\\":\\\"\\\"}'::JSONB); \"\n",
    "        )\n",
    "\n",
    "        drop_model_sql = \"SELECT aidb.delete_model('product_descriptions_embeddings');\"\n",
    "        #print(f\"Step 1: define_model={define_model}\")\n",
    "\n",
    "        cur.execute(define_model)\n",
    "\n",
    "        product_retriever = \"\"\"SELECT aidb.create_retriever_for_table(\n",
    "                    name => 'recommend_products',\n",
    "                    model_name => 'product_descriptions_embeddings',\n",
    "                    source_table => 'products',\n",
    "                    source_key_column => 'img_id',\n",
    "                    source_data_column => 'productdisplayname',\n",
    "                    source_data_type => 'Text'\n",
    "                    );\"\"\"\n",
    "\n",
    "        #print(f\"Step 2: product_retriever={product_retriever}\")\n",
    "\n",
    "        cur.execute(product_retriever)"
   ]
  },
  {
   "cell_type": "code",
   "execution_count": null,
   "id": "e346c1f5-4454-4ab8-9fe8-26aac7d471a5",
   "metadata": {},
   "outputs": [],
   "source": []
  },
  {
   "cell_type": "code",
   "execution_count": 10,
   "id": "1b089eac-39aa-45ab-85ef-89c9a640d0ec",
   "metadata": {},
   "outputs": [
    {
     "ename": "RaiseException",
     "evalue": "Failed to create retriever: relation \"products\" does not exist\nCONTEXT:  PL/pgSQL function aidb.create_retriever_for_table(text,text,text,text,aidb.retrieversourcedataformat,text,text,text,text,integer,aidb.distanceoperator,jsonb) line 84 at RAISE\n",
     "output_type": "error",
     "traceback": [
      "\u001b[0;31m---------------------------------------------------------------------------\u001b[0m",
      "\u001b[0;31mRaiseException\u001b[0m                            Traceback (most recent call last)",
      "Cell \u001b[0;32mIn[10], line 8\u001b[0m\n\u001b[1;32m      6\u001b[0m \u001b[38;5;28;01mexcept\u001b[39;00m \u001b[38;5;167;01mException\u001b[39;00m \u001b[38;5;28;01mas\u001b[39;00m e:\n\u001b[1;32m      7\u001b[0m     conn\u001b[38;5;241m.\u001b[39mrollback()\n\u001b[0;32m----> 8\u001b[0m     \u001b[38;5;28;01mraise\u001b[39;00m(e)\n\u001b[1;32m      9\u001b[0m \u001b[38;5;28;01mfinally\u001b[39;00m:\n\u001b[1;32m     10\u001b[0m     close_db(conn)\n",
      "Cell \u001b[0;32mIn[10], line 3\u001b[0m\n\u001b[1;32m      1\u001b[0m \u001b[38;5;28;01mtry\u001b[39;00m:\n\u001b[1;32m      2\u001b[0m     conn \u001b[38;5;241m=\u001b[39m connect_db()\n\u001b[0;32m----> 3\u001b[0m     \u001b[43mcreate_product_description_retriever\u001b[49m\u001b[43m(\u001b[49m\u001b[43mconn\u001b[49m\u001b[43m)\u001b[49m\n\u001b[1;32m      4\u001b[0m     create_image_retriever(conn)\n\u001b[1;32m      5\u001b[0m     conn\u001b[38;5;241m.\u001b[39mcommit()\n",
      "Cell \u001b[0;32mIn[9], line 34\u001b[0m, in \u001b[0;36mcreate_product_description_retriever\u001b[0;34m(conn)\u001b[0m\n\u001b[1;32m     23\u001b[0m product_retriever \u001b[38;5;241m=\u001b[39m \u001b[38;5;124m\"\"\"\u001b[39m\u001b[38;5;124mSELECT aidb.create_retriever_for_table(\u001b[39m\n\u001b[1;32m     24\u001b[0m \u001b[38;5;124m            name => \u001b[39m\u001b[38;5;124m'\u001b[39m\u001b[38;5;124mrecommend_products\u001b[39m\u001b[38;5;124m'\u001b[39m\u001b[38;5;124m,\u001b[39m\n\u001b[1;32m     25\u001b[0m \u001b[38;5;124m            model_name => \u001b[39m\u001b[38;5;124m'\u001b[39m\u001b[38;5;124mproduct_descriptions_embeddings\u001b[39m\u001b[38;5;124m'\u001b[39m\u001b[38;5;124m,\u001b[39m\n\u001b[0;32m   (...)\u001b[0m\n\u001b[1;32m     29\u001b[0m \u001b[38;5;124m            source_data_type => \u001b[39m\u001b[38;5;124m'\u001b[39m\u001b[38;5;124mText\u001b[39m\u001b[38;5;124m'\u001b[39m\n\u001b[1;32m     30\u001b[0m \u001b[38;5;124m            );\u001b[39m\u001b[38;5;124m\"\"\"\u001b[39m\n\u001b[1;32m     32\u001b[0m \u001b[38;5;66;03m#print(f\"Step 2: product_retriever={product_retriever}\")\u001b[39;00m\n\u001b[0;32m---> 34\u001b[0m \u001b[43mcur\u001b[49m\u001b[38;5;241;43m.\u001b[39;49m\u001b[43mexecute\u001b[49m\u001b[43m(\u001b[49m\u001b[43mproduct_retriever\u001b[49m\u001b[43m)\u001b[49m\n",
      "\u001b[0;31mRaiseException\u001b[0m: Failed to create retriever: relation \"products\" does not exist\nCONTEXT:  PL/pgSQL function aidb.create_retriever_for_table(text,text,text,text,aidb.retrieversourcedataformat,text,text,text,text,integer,aidb.distanceoperator,jsonb) line 84 at RAISE\n"
     ]
    }
   ],
   "source": [
    "try:\n",
    "    conn = connect_db()\n",
    "    create_product_description_retriever(conn)\n",
    "    create_image_retriever(conn)\n",
    "    conn.commit()\n",
    "except Exception as e:\n",
    "    conn.rollback()\n",
    "    raise(e)\n",
    "finally:\n",
    "    close_db(conn)"
   ]
  },
  {
   "cell_type": "code",
   "execution_count": null,
   "id": "6ba22bd2-6120-4290-b00c-e3e0a68bdde5",
   "metadata": {},
   "outputs": [],
   "source": []
  }
 ],
 "metadata": {
  "kernelspec": {
   "display_name": "Python 3.11",
   "language": "python",
   "name": "python3"
  },
  "language_info": {
   "codemirror_mode": {
    "name": "ipython",
    "version": 3
   },
   "file_extension": ".py",
   "mimetype": "text/x-python",
   "name": "python",
   "nbconvert_exporter": "python",
   "pygments_lexer": "ipython3",
   "version": "3.11.7"
  }
 },
 "nbformat": 4,
 "nbformat_minor": 5
}
