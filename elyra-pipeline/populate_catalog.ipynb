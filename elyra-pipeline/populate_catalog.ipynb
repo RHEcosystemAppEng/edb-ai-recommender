{
 "cells": [
  {
   "cell_type": "code",
   "execution_count": null,
   "id": "a4c292c5-85cd-4ba4-8e5b-bc06d7c4c69a",
   "metadata": {},
   "outputs": [],
   "source": [
    "import psycopg2\n",
    "from postgres_utilities import connect_db, close_db\n",
    "import pandas as pd\n",
    "from io import StringIO"
   ]
  },
  {
   "cell_type": "code",
   "execution_count": null,
   "id": "2684e0aa-5437-4cad-ae63-345f119f1e1b",
   "metadata": {},
   "outputs": [],
   "source": [
    "try:\n",
    "    conn = connect_db()\n",
    "    # Read the train.csv file into a pandas dataframe, skipping bad lines\n",
    "    df = pd.read_csv(\"./products.csv\", on_bad_lines=\"skip\")  \n",
    "    output = StringIO()\n",
    "    df_copy = df.copy()\n",
    "\n",
    "    # Convert year to integer if it's not already\n",
    "    df_copy['year'] = df_copy['year'].astype('Int64')\n",
    "\n",
    "    # Replace NaN with None for proper NULL handling in PostgreSQL\n",
    "    df_copy = df_copy.replace({pd.NA: None, pd.NaT: None})\n",
    "    df_copy = df_copy.where(pd.notnull(df_copy), None)\n",
    "    \n",
    "    # Convert DataFrame to csv format in memory\n",
    "    df_copy.to_csv(output, sep='\\t', header=False, index=False, na_rep='\\\\N')\n",
    "    output.seek(0)\n",
    "    # Copy the data to the products table\n",
    "    with conn.cursor() as cur:\n",
    "        # Use COPY to insert data\n",
    "        cur.copy_from(file=output,table='products',null='\\\\N')\n",
    "    conn.commit()\n",
    "except Exception as e:\n",
    "    if conn is not None and not conn.closed:\n",
    "        conn.rollback()\n",
    "    err_msg = f\"An error occurred and the transaction was rolled back: {e}\"\n",
    "    raise Exception(err_msg)\n",
    "finally:\n",
    "    close_db(conn)"
   ]
  }
 ],
 "metadata": {
  "kernelspec": {
   "display_name": "Python 3.11",
   "language": "python",
   "name": "python3"
  },
  "language_info": {
   "codemirror_mode": {
    "name": "ipython",
    "version": 3
   },
   "file_extension": ".py",
   "mimetype": "text/x-python",
   "name": "python",
   "nbconvert_exporter": "python",
   "pygments_lexer": "ipython3",
   "version": "3.11.7"
  }
 },
 "nbformat": 4,
 "nbformat_minor": 5
}
