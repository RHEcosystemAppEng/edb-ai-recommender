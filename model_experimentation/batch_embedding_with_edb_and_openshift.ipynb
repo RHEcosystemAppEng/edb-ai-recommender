{
 "cells": [
  {
   "cell_type": "code",
   "execution_count": 1,
   "id": "e78f0b5c-9542-4bed-89c8-98bbcff022a0",
   "metadata": {},
   "outputs": [
    {
     "name": "stdout",
     "output_type": "stream",
     "text": [
      "INFO 05-05 14:50:12 [__init__.py:239] Automatically detected platform cuda.\n"
     ]
    }
   ],
   "source": [
    "import os, time, sys\n",
    "from vllm import LLM\n",
    "sys.path.append('../elyra_pipeline/')\n",
    "from postgres_utilities import connect_db, close_db, execute_sql_results, execute_sql_results_np, execute_sql, execute_sql_results_params_np"
   ]
  },
  {
   "cell_type": "code",
   "execution_count": null,
   "id": "5ef5b4dd-380d-47ce-8de8-181be65d7b62",
   "metadata": {},
   "outputs": [],
   "source": []
  },
  {
   "cell_type": "code",
   "execution_count": 2,
   "id": "2fed6c7f-7f8e-47d8-af7e-d803bf4100d8",
   "metadata": {},
   "outputs": [],
   "source": [
    "embedding_endpoint =  os.environ.get('embedding_model_endpoint')\n",
    "model_name = 'gritlm-7b'\n",
    "number_data_rows = 1000"
   ]
  },
  {
   "cell_type": "code",
   "execution_count": 3,
   "id": "4aac0261-d5c6-4036-bdec-f79f34731d02",
   "metadata": {},
   "outputs": [],
   "source": [
    "embedding_endpoint = f\"{embedding_endpoint}/v1/embeddings\""
   ]
  },
  {
   "cell_type": "code",
   "execution_count": 4,
   "id": "028e47ce-3961-4add-aee4-9359a4d26cb3",
   "metadata": {},
   "outputs": [],
   "source": [
    "delete_model = f\"select aidb.delete_model('{model_name}');\"\n",
    "create_model = f\"\"\"\n",
    "    select aidb.create_model(\n",
    "    '{model_name}',\n",
    "    'embeddings',\n",
    "    '{{\"model\":\"{model_name}\", \"url\":\"{embedding_endpoint}\", \n",
    "    \"dimensions\":4096}}'::JSONB,\n",
    "    '{{\"api_key\":\"\"}}'::JSONB, true);\n",
    "    \"\"\"\n",
    "get_data = f\"select productdisplayname from products limit {number_data_rows}\""
   ]
  },
  {
   "cell_type": "code",
   "execution_count": 5,
   "id": "59c5f5d5-5ed6-4781-8221-4fd075678399",
   "metadata": {},
   "outputs": [],
   "source": [
    "try:\n",
    "    conn = connect_db()\n",
    "    execute_sql(conn, delete_model)\n",
    "    execute_sql(conn, create_model)\n",
    "    results = execute_sql_results_np(conn, get_data)\n",
    "except Exception as e:\n",
    "    if conn is not None and not conn.closed:\n",
    "        conn.rollback()\n",
    "    err_msg = f\"An error occurred and the transaction was rolled back: {e}\"\n",
    "    raise Exception(err_msg)\n",
    "finally:\n",
    "    close_db(conn)"
   ]
  },
  {
   "cell_type": "code",
   "execution_count": null,
   "id": "110b2af6-8f1e-495b-bb7a-7bb55037da70",
   "metadata": {},
   "outputs": [],
   "source": []
  },
  {
   "cell_type": "code",
   "execution_count": 6,
   "id": "f4ee6616-3020-4a18-96ec-7f2b94709b6b",
   "metadata": {},
   "outputs": [],
   "source": [
    "encode_text_sql = f\"select translate(cast (aidb.encode_text_batch('{model_name}', %s) as text), '\\\"', '')::float[]\""
   ]
  },
  {
   "cell_type": "code",
   "execution_count": 7,
   "id": "bb8a1dfb-87dd-47d2-b7df-24ab9b94d53b",
   "metadata": {},
   "outputs": [
    {
     "name": "stdout",
     "output_type": "stream",
     "text": [
      "Starting batch embedding test using OpenShift AI vllm model with EDB AI\n",
      "-----------------------------------------------------------------------\n",
      "Embeddings computed ... 0 1000 \n",
      "Time to compute 1000 embeddings: 11.2306 seconds\n",
      "-----------------------------------------------------------------------\n"
     ]
    }
   ],
   "source": [
    "try:\n",
    "    conn = connect_db()\n",
    "    test_description = \"Starting batch embedding test using OpenShift AI vllm model with EDB AI\"\n",
    "    print(test_description)\n",
    "    print(len(test_description) * \"-\") \n",
    "    tic = time.perf_counter()\n",
    "    print(\"Embeddings computed ...\", end=\" \")\n",
    "    descriptions = list()\n",
    "    for index, product in enumerate(results):\n",
    "        descriptions.append(product[0])\n",
    "    \n",
    "    batch_size = 1000\n",
    "    start_offset = 0\n",
    "    end_offset = batch_size\n",
    "    embeddings = list()\n",
    "    while start_offset < number_data_rows:\n",
    "        print(start_offset, end_offset, end=\" \")\n",
    "        embeddings = embeddings + execute_sql_results_params_np(conn, encode_text_sql, descriptions[start_offset:end_offset])[0][0]\n",
    "        start_offset = end_offset\n",
    "        end_offset = end_offset + batch_size\n",
    "        if end_offset > number_data_rows:\n",
    "            end_offset = number_data_rows\n",
    "except Exception as e:\n",
    "    if conn is not None and not conn.closed:\n",
    "        conn.rollback()\n",
    "    err_msg = f\"An error occurred and the transaction was rolled back: {e}\"\n",
    "    raise Exception(err_msg)\n",
    "finally:\n",
    "    close_db(conn)\n",
    "\n",
    "assert len(embeddings) == index+1\n",
    "for e in embeddings:\n",
    "    assert(len(e) == 4096)\n",
    "\n",
    "toc = time.perf_counter()\n",
    "print(\"\")\n",
    "print(f\"Time to compute {number_data_rows} embeddings: {toc - tic:0.4f} seconds\")\n",
    "print(len(test_description) * \"-\") "
   ]
  },
  {
   "cell_type": "code",
   "execution_count": null,
   "id": "212d1e2c-7e12-4821-898b-680336d9d928",
   "metadata": {},
   "outputs": [],
   "source": []
  }
 ],
 "metadata": {
  "kernelspec": {
   "display_name": "Python 3.11",
   "language": "python",
   "name": "python3"
  },
  "language_info": {
   "codemirror_mode": {
    "name": "ipython",
    "version": 3
   },
   "file_extension": ".py",
   "mimetype": "text/x-python",
   "name": "python",
   "nbconvert_exporter": "python",
   "pygments_lexer": "ipython3",
   "version": "3.11.7"
  }
 },
 "nbformat": 4,
 "nbformat_minor": 5
}
