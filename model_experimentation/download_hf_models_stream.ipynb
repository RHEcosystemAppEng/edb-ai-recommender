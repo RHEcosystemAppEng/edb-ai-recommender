{
 "cells": [
  {
   "cell_type": "code",
   "execution_count": null,
   "metadata": {
    "vscode": {
     "languageId": "plaintext"
    }
   },
   "outputs": [],
   "source": [
    "%pip install huggingface-hub"
   ]
  },
  {
   "cell_type": "code",
   "execution_count": null,
   "metadata": {
    "vscode": {
     "languageId": "plaintext"
    }
   },
   "outputs": [],
   "source": [
    "from huggingface_hub import HfApi, hf_hub_url, login\n",
    "import requests\n",
    "import os\n",
    "import boto3\n",
    "import botocore"
   ]
  },
  {
   "cell_type": "code",
   "execution_count": null,
   "metadata": {
    "vscode": {
     "languageId": "plaintext"
    }
   },
   "outputs": [],
   "source": [
    "login_token = os.environ.get('huggingface_token')\n",
    "login(token=login_token)\n",
    "aws_access_key_id = os.environ.get('AWS_ACCESS_KEY_ID')\n",
    "aws_secret_access_key = os.environ.get('AWS_SECRET_ACCESS_KEY')\n",
    "endpoint_url = os.environ.get('AWS_S3_ENDPOINT')\n",
    "region_name = os.environ.get('AWS_DEFAULT_REGION')\n",
    "bucket_name = os.environ.get('AWS_S3_BUCKET')"
   ]
  },
  {
   "cell_type": "code",
   "execution_count": null,
   "metadata": {
    "vscode": {
     "languageId": "plaintext"
    }
   },
   "outputs": [],
   "source": [
    "\n",
    "# 2) boto3 client for your MinIO/S3\n",
    "session = boto3.session.Session(\n",
    "    aws_access_key_id=aws_access_key_id,\n",
    "    aws_secret_access_key=aws_secret_access_key,\n",
    ")\n",
    "s3 = session.resource(\n",
    "    \"s3\",\n",
    "    endpoint_url=endpoint_url,\n",
    "    region_name=region_name,\n",
    "    config=botocore.client.Config(signature_version=\"s3v4\"),\n",
    ")\n",
    "bucket = s3.Bucket(bucket_name)"
   ]
  },
  {
   "cell_type": "code",
   "execution_count": null,
   "metadata": {
    "vscode": {
     "languageId": "plaintext"
    }
   },
   "outputs": [],
   "source": [
    "# 3) which repo & prefix you’ll stream into\n",
    "model_prefix = \"Qwen\"\n",
    "model_name   = \"Qwen2-VL-7B-Instruct\"\n",
    "repo_id      = f\"{model_prefix}/{model_name}\"\n",
    "s3_prefix    = f\"{model_name}/\"   # all files go under this key prefix"
   ]
  },
  {
   "cell_type": "code",
   "execution_count": null,
   "metadata": {
    "vscode": {
     "languageId": "plaintext"
    }
   },
   "outputs": [],
   "source": [
    "# 4) list every file in the HF repo\n",
    "api = HfApi()\n",
    "files = api.list_repo_files(repo_id, token=login_token)"
   ]
  },
  {
   "cell_type": "code",
   "execution_count": null,
   "metadata": {
    "vscode": {
     "languageId": "plaintext"
    }
   },
   "outputs": [],
   "source": [
    "for fn in files:\n",
    "    if fn.endswith(\"/\"):\n",
    "        continue\n",
    "\n",
    "    print(f\"→ {fn}\")\n",
    "    url = hf_hub_url(repo_id=repo_id, filename=fn)\n",
    "    # append ?token= to get a presigned-like URL for private models\n",
    "    url_with_token = f\"{url}?token={login_token}\"\n",
    "    resp = requests.get(url_with_token, stream=True)\n",
    "    resp.raise_for_status()\n",
    "    resp.raw.decode_content = True\n",
    "\n",
    "    # stream directly into your S3/MinIO bucket\n",
    "    bucket.upload_fileobj(\n",
    "        Fileobj=resp.raw,\n",
    "        Key=s3_prefix + fn\n",
    "    )"
   ]
  }
 ],
 "metadata": {
  "language_info": {
   "name": "python"
  }
 },
 "nbformat": 4,
 "nbformat_minor": 2
}
