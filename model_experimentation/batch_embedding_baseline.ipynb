{
 "cells": [
  {
   "cell_type": "code",
   "execution_count": 3,
   "id": "a5cffb88-53dc-4022-9137-b30765c511e2",
   "metadata": {},
   "outputs": [],
   "source": [
    "import os, time, sys\n",
    "from vllm import LLM\n",
    "sys.path.append('../elyra_pipeline/')\n",
    "from postgres_utilities import connect_db, close_db, execute_sql_results, execute_sql_results_np"
   ]
  },
  {
   "cell_type": "code",
   "execution_count": null,
   "id": "a35a7fc4-ba27-4615-bdde-dc8ef71f46b2",
   "metadata": {},
   "outputs": [],
   "source": []
  },
  {
   "cell_type": "code",
   "execution_count": 4,
   "id": "65c191b1-0bae-463b-b66e-389164f2631a",
   "metadata": {},
   "outputs": [],
   "source": [
    "model_name = \"GritLM/GritLM-7B\"\n",
    "number_data_rows = 1000"
   ]
  },
  {
   "cell_type": "code",
   "execution_count": null,
   "id": "54e90b06-51fc-4805-b37e-b64c4e954259",
   "metadata": {},
   "outputs": [],
   "source": []
  },
  {
   "cell_type": "code",
   "execution_count": 5,
   "id": "04b95e5b-03a7-49b3-801c-4042ca96fcf4",
   "metadata": {},
   "outputs": [
    {
     "name": "stdout",
     "output_type": "stream",
     "text": [
      "WARNING 05-05 13:32:46 [arg_utils.py:1658] --task embed is not supported by the V1 Engine. Falling back to V0. \n",
      "INFO 05-05 13:32:46 [llm_engine.py:240] Initializing a V0 LLM engine (v0.8.5.post1) with config: model='GritLM/GritLM-7B', speculative_config=None, tokenizer='GritLM/GritLM-7B', skip_tokenizer_init=False, tokenizer_mode=auto, revision=None, override_neuron_config=None, tokenizer_revision=None, trust_remote_code=False, dtype=torch.bfloat16, max_seq_len=4096, download_dir=None, load_format=LoadFormat.AUTO, tensor_parallel_size=1, pipeline_parallel_size=1, disable_custom_all_reduce=False, quantization=None, enforce_eager=False, kv_cache_dtype=auto,  device_config=cuda, decoding_config=DecodingConfig(guided_decoding_backend='auto', reasoning_backend=None), observability_config=ObservabilityConfig(show_hidden_metrics=False, otlp_traces_endpoint=None, collect_model_forward_time=False, collect_model_execute_time=False), seed=None, served_model_name=GritLM/GritLM-7B, num_scheduler_steps=1, multi_step_stream_outputs=True, enable_prefix_caching=None, chunked_prefill_enabled=False, use_async_output_proc=False, disable_mm_preprocessor_cache=False, mm_processor_kwargs=None, pooler_config=PoolerConfig(pooling_type=None, normalize=None, softmax=None, step_tag_id=None, returned_token_ids=None), compilation_config={\"splitting_ops\":[],\"compile_sizes\":[],\"cudagraph_capture_sizes\":[256,248,240,232,224,216,208,200,192,184,176,168,160,152,144,136,128,120,112,104,96,88,80,72,64,56,48,40,32,24,16,8,4,2,1],\"max_capture_size\":256}, use_cached_outputs=False, \n",
      "INFO 05-05 13:32:48 [cuda.py:292] Using Flash Attention backend.\n",
      "INFO 05-05 13:32:48 [parallel_state.py:1004] rank 0 in world size 1 is assigned as DP rank 0, PP rank 0, TP rank 0\n",
      "INFO 05-05 13:32:48 [model_runner.py:1108] Starting to load model GritLM/GritLM-7B...\n",
      "INFO 05-05 13:32:48 [weight_utils.py:265] Using model weights format ['*.safetensors']\n"
     ]
    },
    {
     "data": {
      "application/vnd.jupyter.widget-view+json": {
       "model_id": "05e9f12247fe4af3891c7016eab07014",
       "version_major": 2,
       "version_minor": 0
      },
      "text/plain": [
       "Loading safetensors checkpoint shards:   0% Completed | 0/3 [00:00<?, ?it/s]\n"
      ]
     },
     "metadata": {},
     "output_type": "display_data"
    },
    {
     "name": "stdout",
     "output_type": "stream",
     "text": [
      "INFO 05-05 13:34:36 [loader.py:458] Loading weights took 107.60 seconds\n",
      "INFO 05-05 13:34:36 [model_runner.py:1140] Model loading took 13.2526 GiB and 107.937122 seconds\n"
     ]
    }
   ],
   "source": [
    "llm = LLM(model=model_name, task=\"embed\", max_model_len=4096)"
   ]
  },
  {
   "cell_type": "code",
   "execution_count": null,
   "id": "01305377-e7ef-4e4e-b0c3-64cc5cc47c6a",
   "metadata": {},
   "outputs": [],
   "source": []
  },
  {
   "cell_type": "code",
   "execution_count": 6,
   "id": "6039eddb-8331-46a5-bc28-90db1ab403ea",
   "metadata": {},
   "outputs": [],
   "source": [
    "try:\n",
    "    conn = connect_db()\n",
    "    sql = f\"select productdisplayname from products limit {number_data_rows}\"\n",
    "    results = execute_sql_results_np(conn, sql)\n",
    "except Exception as e:\n",
    "    raise e\n",
    "finally:\n",
    "    close_db(conn)"
   ]
  },
  {
   "cell_type": "code",
   "execution_count": null,
   "id": "3d3a4b4b-ce21-4191-a470-7f2cf6260e5b",
   "metadata": {},
   "outputs": [],
   "source": []
  },
  {
   "cell_type": "code",
   "execution_count": 7,
   "id": "d20ef999-3e36-44a9-95c6-b0b37218c460",
   "metadata": {},
   "outputs": [
    {
     "name": "stdout",
     "output_type": "stream",
     "text": [
      "Starting batch embedding test using local vllm\n",
      "----------------------------------------------\n",
      "Embeddings computed ... 0 1000 "
     ]
    },
    {
     "data": {
      "application/vnd.jupyter.widget-view+json": {
       "model_id": "53a84ebfdc79494092c836ebefe0aef9",
       "version_major": 2,
       "version_minor": 0
      },
      "text/plain": [
       "Processed prompts:   0%|          | 0/1000 [00:00<?, ?it/s, est. speed input: 0.00 toks/s, output: 0.00 toks/s…"
      ]
     },
     "metadata": {},
     "output_type": "display_data"
    },
    {
     "name": "stdout",
     "output_type": "stream",
     "text": [
      "\n",
      "Time to compute 1000 embeddings: 3.1505 seconds\n",
      "----------------------------------------------\n"
     ]
    }
   ],
   "source": [
    "test_description = \"Starting batch embedding test using local vllm\"\n",
    "print(test_description)\n",
    "print(len(test_description) * \"-\") \n",
    "tic = time.perf_counter()\n",
    "print(\"Embeddings computed ...\", end=\" \")\n",
    "descriptions = list()\n",
    "for index, product in enumerate(results):\n",
    "    descriptions.append(product[0])\n",
    "\n",
    "batch_size = 1000\n",
    "start_offset = 0\n",
    "end_offset = batch_size\n",
    "embeddings = list()\n",
    "while start_offset < number_data_rows:\n",
    "    print(start_offset, end_offset, end=\" \")\n",
    "    embeddings = embeddings + llm.embed(descriptions[start_offset:end_offset])\n",
    "    start_offset = end_offset\n",
    "    end_offset = end_offset + batch_size\n",
    "    if end_offset > number_data_rows:\n",
    "        end_offset = number_data_rows\n",
    "\n",
    "assert len(embeddings) == index+1\n",
    "for e in embeddings:\n",
    "    assert(e.outputs.hidden_size == 4096)\n",
    "\n",
    "toc = time.perf_counter()\n",
    "print(\"\")\n",
    "print(f\"Time to compute {number_data_rows} embeddings: {toc - tic:0.4f} seconds\")\n",
    "print(len(test_description) * \"-\") "
   ]
  },
  {
   "cell_type": "code",
   "execution_count": null,
   "id": "79c486da-5db7-4d68-ba4b-038181eb6e21",
   "metadata": {},
   "outputs": [],
   "source": []
  }
 ],
 "metadata": {
  "kernelspec": {
   "display_name": "Python 3.11",
   "language": "python",
   "name": "python3"
  },
  "language_info": {
   "codemirror_mode": {
    "name": "ipython",
    "version": 3
   },
   "file_extension": ".py",
   "mimetype": "text/x-python",
   "name": "python",
   "nbconvert_exporter": "python",
   "pygments_lexer": "ipython3",
   "version": "3.11.7"
  }
 },
 "nbformat": 4,
 "nbformat_minor": 5
}
