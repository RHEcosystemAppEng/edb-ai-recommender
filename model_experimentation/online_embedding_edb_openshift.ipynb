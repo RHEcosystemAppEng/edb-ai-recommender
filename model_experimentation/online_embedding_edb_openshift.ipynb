{
 "cells": [
  {
   "cell_type": "code",
   "execution_count": 1,
   "id": "e78f0b5c-9542-4bed-89c8-98bbcff022a0",
   "metadata": {},
   "outputs": [
    {
     "name": "stdout",
     "output_type": "stream",
     "text": [
      "INFO 05-05 14:46:36 [__init__.py:239] Automatically detected platform cuda.\n"
     ]
    }
   ],
   "source": [
    "import os, time, sys\n",
    "from vllm import LLM\n",
    "sys.path.append('../elyra_pipeline/')\n",
    "from postgres_utilities import connect_db, close_db, execute_sql_results, execute_sql_results_np, execute_sql"
   ]
  },
  {
   "cell_type": "code",
   "execution_count": null,
   "id": "5c7c673d-1923-460e-bd76-e022ffde2f1a",
   "metadata": {},
   "outputs": [],
   "source": []
  },
  {
   "cell_type": "code",
   "execution_count": 2,
   "id": "001150b0-e0f1-4bdf-8afe-da58de4045c4",
   "metadata": {},
   "outputs": [],
   "source": [
    "embedding_endpoint =  os.environ.get('embedding_model_endpoint')\n",
    "model_name = 'gritlm-7b'\n",
    "number_data_rows = 1000"
   ]
  },
  {
   "cell_type": "code",
   "execution_count": 3,
   "id": "e371a32e-3043-4bd7-97bf-a047628ffce5",
   "metadata": {},
   "outputs": [],
   "source": [
    "embedding_endpoint = f\"{embedding_endpoint}/v1/embeddings\""
   ]
  },
  {
   "cell_type": "code",
   "execution_count": 4,
   "id": "14779607-edba-4b24-9486-96609dffef2d",
   "metadata": {},
   "outputs": [],
   "source": [
    "delete_model = f\"select aidb.delete_model('{model_name}');\"\n",
    "create_model = f\"\"\"\n",
    "    select aidb.create_model(\n",
    "    '{model_name}',\n",
    "    'embeddings',\n",
    "    '{{\"model\":\"{model_name}\", \"url\":\"{embedding_endpoint}\", \n",
    "    \"dimensions\":4096}}'::JSONB,\n",
    "    '{{\"api_key\":\"\"}}'::JSONB, true);\n",
    "    \"\"\"\n",
    "generate_embeddings = f\"select aidb.encode_text('{model_name}', productdisplayname) from products limit {number_data_rows}\"\n",
    "#print(delete_model)\n",
    "#print(create_model)\n",
    "#print(generate_embeddings)"
   ]
  },
  {
   "cell_type": "code",
   "execution_count": null,
   "id": "e4bca608-5db8-4ce6-a835-e0b5a49abf36",
   "metadata": {},
   "outputs": [],
   "source": []
  },
  {
   "cell_type": "code",
   "execution_count": 5,
   "id": "07c33785-171e-4b85-a589-37ad32814c79",
   "metadata": {},
   "outputs": [
    {
     "name": "stdout",
     "output_type": "stream",
     "text": [
      "Starting online embedding test using edb with OpenShift AI model\n",
      "----------------------------------------------------------------\n",
      "Embeddings computed ... 1000\n",
      "Time to compute 1000 embeddings: 62.0088 seconds\n",
      "----------------------------------------------------------------\n"
     ]
    }
   ],
   "source": [
    "try:\n",
    "    conn = connect_db()\n",
    "    execute_sql(conn, delete_model)\n",
    "    execute_sql(conn, create_model)\n",
    "\n",
    "    test_description = \"Starting online embedding test using edb with OpenShift AI model\"\n",
    "    print(test_description)\n",
    "    print(len(test_description) * \"-\") \n",
    "    tic = time.perf_counter()\n",
    "    print(\"Embeddings computed ...\", end=\" \")\n",
    "\n",
    "    results = execute_sql_results_np(conn, generate_embeddings)\n",
    "\n",
    "    assert len(results) == number_data_rows\n",
    "    toc = time.perf_counter()\n",
    "    print(f\"{number_data_rows}\")\n",
    "    print(f\"Time to compute {number_data_rows} embeddings: {toc - tic:0.4f} seconds\")\n",
    "    print(len(test_description) * \"-\")\n",
    "except Exception as e:\n",
    "    if conn is not None and not conn.closed:\n",
    "        conn.rollback()\n",
    "    err_msg = f\"An error occurred and the transaction was rolled back: {e}\"\n",
    "    raise Exception(err_msg)\n",
    "finally:\n",
    "    close_db(conn)"
   ]
  },
  {
   "cell_type": "code",
   "execution_count": null,
   "id": "1dc609a1-ba91-458c-b1c8-9cd9aa06cb5b",
   "metadata": {},
   "outputs": [],
   "source": []
  }
 ],
 "metadata": {
  "kernelspec": {
   "display_name": "Python 3.11",
   "language": "python",
   "name": "python3"
  },
  "language_info": {
   "codemirror_mode": {
    "name": "ipython",
    "version": 3
   },
   "file_extension": ".py",
   "mimetype": "text/x-python",
   "name": "python",
   "nbconvert_exporter": "python",
   "pygments_lexer": "ipython3",
   "version": "3.11.7"
  }
 },
 "nbformat": 4,
 "nbformat_minor": 5
}
