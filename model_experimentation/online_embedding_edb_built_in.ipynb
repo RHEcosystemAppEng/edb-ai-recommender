{
 "cells": [
  {
   "cell_type": "code",
   "execution_count": 1,
   "id": "e78f0b5c-9542-4bed-89c8-98bbcff022a0",
   "metadata": {},
   "outputs": [
    {
     "name": "stdout",
     "output_type": "stream",
     "text": [
      "INFO 05-05 14:38:32 [__init__.py:239] Automatically detected platform cuda.\n"
     ]
    }
   ],
   "source": [
    "import os, time, sys\n",
    "from vllm import LLM\n",
    "sys.path.append('../elyra_pipeline/')\n",
    "from postgres_utilities import connect_db, close_db, execute_sql_results, execute_sql_results_np"
   ]
  },
  {
   "cell_type": "code",
   "execution_count": 2,
   "id": "2fed6c7f-7f8e-47d8-af7e-d803bf4100d8",
   "metadata": {},
   "outputs": [],
   "source": [
    "number_data_rows = 1000"
   ]
  },
  {
   "cell_type": "code",
   "execution_count": null,
   "id": "1dc609a1-ba91-458c-b1c8-9cd9aa06cb5b",
   "metadata": {},
   "outputs": [],
   "source": []
  },
  {
   "cell_type": "code",
   "execution_count": 3,
   "id": "6500bc9a-a3eb-4772-9111-c8961682010e",
   "metadata": {},
   "outputs": [
    {
     "name": "stdout",
     "output_type": "stream",
     "text": [
      "Starting online embedding test using edb with built-in Bert model\n",
      "-----------------------------------------------------------------\n",
      "Embeddings computed ... 1000\n",
      "Time to compute 1000 embeddings: 16.7774 seconds\n",
      "-----------------------------------------------------------------\n"
     ]
    }
   ],
   "source": [
    "test_description = \"Starting online embedding test using edb with built-in Bert model\"\n",
    "print(test_description)\n",
    "print(len(test_description) * \"-\") \n",
    "tic = time.perf_counter()\n",
    "print(\"Embeddings computed ...\", end=\" \")\n",
    "try:\n",
    "    sql = f\"select aidb.encode_text('bert', productdisplayname) from products limit {number_data_rows}\"\n",
    "    conn = connect_db()\n",
    "    results = execute_sql_results_np(conn, sql)\n",
    "except Exception as e:\n",
    "    raise e\n",
    "finally:\n",
    "    close_db(conn)\n",
    "\n",
    "assert len(results) == number_data_rows\n",
    "toc = time.perf_counter()\n",
    "print(f\"{number_data_rows}\")\n",
    "print(f\"Time to compute {number_data_rows} embeddings: {toc - tic:0.4f} seconds\")\n",
    "print(len(test_description) * \"-\")"
   ]
  },
  {
   "cell_type": "code",
   "execution_count": null,
   "id": "c76b2863-354f-43f9-830b-3c1d9715a473",
   "metadata": {},
   "outputs": [],
   "source": []
  }
 ],
 "metadata": {
  "kernelspec": {
   "display_name": "Python 3.11",
   "language": "python",
   "name": "python3"
  },
  "language_info": {
   "codemirror_mode": {
    "name": "ipython",
    "version": 3
   },
   "file_extension": ".py",
   "mimetype": "text/x-python",
   "name": "python",
   "nbconvert_exporter": "python",
   "pygments_lexer": "ipython3",
   "version": "3.11.7"
  }
 },
 "nbformat": 4,
 "nbformat_minor": 5
}
